{
 "cells": [
  {
   "cell_type": "code",
   "execution_count": 36,
   "id": "1aa895ed-996a-4a24-84b0-53162fda1179",
   "metadata": {},
   "outputs": [],
   "source": [
    "from pyspark.sql import SparkSession\n",
    "\n",
    "spark = SparkSession.builder.appName('bitso.com').enableHiveSupport().getOrCreate()"
   ]
  },
  {
   "cell_type": "code",
   "execution_count": 2,
   "id": "545a6762-ba74-4bad-bae5-e04c3b7a720a",
   "metadata": {},
   "outputs": [
    {
     "name": "stderr",
     "output_type": "stream",
     "text": [
      "                                                                                \r"
     ]
    }
   ],
   "source": [
    "# Ingestion\n",
    "sources = [\"deposit\", \"event\", \"user_id\", \"withdrawals\"]\n",
    "\n",
    "for source in sources:\n",
    "    spark.read.option(\"header\", \"true\").option(\"inferSchema\", \"true\").csv(f\"data/{source}.csv\").createOrReplaceTempView(f'raw_{source}')"
   ]
  },
  {
   "cell_type": "code",
   "execution_count": 27,
   "id": "cd91e31d-b3da-47a6-93b0-ee4d706e820d",
   "metadata": {},
   "outputs": [],
   "source": [
    "def create_view(name, query):\n",
    "    spark.sql(query).createOrReplaceTempView(name)"
   ]
  },
  {
   "cell_type": "code",
   "execution_count": 8,
   "id": "e3adc70f-e066-496d-a06f-9ea3617eb23a",
   "metadata": {},
   "outputs": [],
   "source": [
    "# stg_transactions\n",
    "create_view(\n",
    "    name='stg_transactions', \n",
    "    query=\"\"\"\n",
    "    SELECT \n",
    "        id,\n",
    "        event_timestamp,\n",
    "        user_id,\n",
    "        amount,\n",
    "        NULL as interface,\n",
    "        currency,\n",
    "        tx_status\n",
    "    FROM raw_deposit\n",
    "    UNION ALL\n",
    "    SELECT \n",
    "        id,\n",
    "        event_timestamp,\n",
    "        user_id,\n",
    "        amount,\n",
    "        interface,\n",
    "        currency,\n",
    "        tx_status\n",
    "    FROM raw_withdrawals\n",
    "\"\"\")"
   ]
  },
  {
   "cell_type": "code",
   "execution_count": 4,
   "id": "14d60fd0-7753-4ecf-b6b5-21b54d962312",
   "metadata": {},
   "outputs": [],
   "source": [
    "# dim_users\n",
    "create_view(\n",
    "    name='dim_users', \n",
    "    query=\"\"\"\n",
    "    SELECT\n",
    "        DISTINCT user_id\n",
    "    FROM\n",
    "        raw_user_id\n",
    "\"\"\")"
   ]
  },
  {
   "cell_type": "code",
   "execution_count": 13,
   "id": "a757200a-52af-4bf7-8b8e-4cf987338e52",
   "metadata": {},
   "outputs": [],
   "source": [
    "# dim_time\n",
    "create_view(\n",
    "    name='dim_time',\n",
    "    query=\"\"\"\n",
    "    WITH date_data AS (\n",
    "        SELECT\n",
    "            date_trunc('day', event_timestamp) AS date,\n",
    "            extract(year FROM event_timestamp) AS year,\n",
    "            extract(month FROM event_timestamp) AS month,\n",
    "            extract(day FROM event_timestamp) AS day\n",
    "        FROM\n",
    "            stg_transactions\n",
    "    )\n",
    "    SELECT\n",
    "        DISTINCT\n",
    "        date,\n",
    "        year,\n",
    "        month,\n",
    "        day\n",
    "    FROM\n",
    "        date_data\n",
    "    ORDER BY\n",
    "        date;\n",
    "\"\"\")"
   ]
  },
  {
   "cell_type": "code",
   "execution_count": 28,
   "id": "f573051e-0945-4ad1-8dbf-999c081a5b67",
   "metadata": {},
   "outputs": [],
   "source": [
    "# dim_currency\n",
    "create_view(\n",
    "    name='dim_currency',\n",
    "    query=\"\"\"\n",
    "    SELECT\n",
    "        DISTINCT currency\n",
    "    FROM\n",
    "        stg_transactions\n",
    "     \"\"\")"
   ]
  },
  {
   "cell_type": "code",
   "execution_count": 103,
   "id": "5dad4ef0-228e-42c1-a2ac-7bc03c722a56",
   "metadata": {},
   "outputs": [],
   "source": [
    "# dim_event_name\n",
    "create_view(\n",
    "    name='dim_event_name',\n",
    "    query=\"\"\"\n",
    "    SELECT\n",
    "        DISTINCT event_name\n",
    "    FROM\n",
    "        raw_event\n",
    "     \"\"\")"
   ]
  },
  {
   "cell_type": "code",
   "execution_count": 87,
   "id": "f93b6f13-6cd8-4139-bd10-9f33ff086bdf",
   "metadata": {},
   "outputs": [],
   "source": [
    "# dim_transaction_type\n",
    "create_view(\n",
    "    name='dim_transaction_type',\n",
    "    query=\"\"\"\n",
    "    SELECT\n",
    "        'deposit' as transaction_type\n",
    "    UNION ALL\n",
    "    SELECT\n",
    "        'withdrawal' as transaction_type\n",
    "     \"\"\")"
   ]
  },
  {
   "cell_type": "code",
   "execution_count": 89,
   "id": "5be40c64-21c9-4991-9a6e-c638db150cc6",
   "metadata": {},
   "outputs": [],
   "source": [
    "# fact_transactions\n",
    "create_view(\n",
    "    name='fact_transactions',\n",
    "    query=\"\"\"\n",
    "    \n",
    "    WITH transactions_data AS (\n",
    "        SELECT\n",
    "            event_timestamp,\n",
    "            user_id,\n",
    "            amount,\n",
    "            currency,\n",
    "            tx_status,\n",
    "            CASE\n",
    "                WHEN interface IS NOT NULL THEN 'withdrawal'\n",
    "                ELSE 'deposit'\n",
    "            END AS transaction_type\n",
    "        FROM\n",
    "            stg_transactions\n",
    "    )\n",
    "    SELECT\n",
    "        t.event_timestamp,\n",
    "        u.user_id,\n",
    "        d.date,\n",
    "        c.currency,\n",
    "        t.amount,\n",
    "        t.tx_status,\n",
    "        t.transaction_type\n",
    "    FROM\n",
    "        transactions_data t\n",
    "    LEFT JOIN\n",
    "        dim_users u ON t.user_id = u.user_id\n",
    "    LEFT JOIN\n",
    "        dim_time d ON date_trunc('day', t.event_timestamp) = d.date\n",
    "    LEFT JOIN\n",
    "        dim_currency c ON t.currency = c.currency\n",
    "    LEFT JOIN\n",
    "        dim_transaction_type tt ON t.transaction_type = tt.transaction_type;\n",
    "    \"\"\")\n",
    "    "
   ]
  },
  {
   "cell_type": "code",
   "execution_count": 106,
   "id": "fa03b6eb-5aa7-4b42-8b53-1a3e7726af3b",
   "metadata": {},
   "outputs": [],
   "source": [
    "# fact_user_events\n",
    "create_view(\n",
    "    name='fact_user_events',\n",
    "    query=\"\"\"\n",
    "    WITH events_data AS (\n",
    "        SELECT\n",
    "            e.event_timestamp,\n",
    "            u.user_id,\n",
    "            d.date,\n",
    "            e.event_name\n",
    "        FROM\n",
    "            raw_event e\n",
    "        LEFT JOIN\n",
    "            dim_users u ON e.user_id = u.user_id\n",
    "        LEFT JOIN\n",
    "            dim_time d ON date_trunc('day', e.event_timestamp) = d.date\n",
    "        LEFT JOIN\n",
    "            dim_event_name en ON e.event_name = en.event_name\n",
    "    )\n",
    "    SELECT\n",
    "        event_timestamp,\n",
    "        user_id,\n",
    "        date,\n",
    "        event_name\n",
    "    FROM\n",
    "        events_data;\n",
    "\"\"\")"
   ]
  },
  {
   "cell_type": "code",
   "execution_count": 107,
   "id": "106c6b74-086d-4acf-91cb-dc207bb04a76",
   "metadata": {},
   "outputs": [
    {
     "name": "stdout",
     "output_type": "stream",
     "text": [
      "Table: dim_currency\n",
      "root\n",
      " |-- currency: string (nullable = true)\n",
      "\n",
      "Table: dim_event_name\n",
      "root\n",
      " |-- event_name: string (nullable = true)\n",
      "\n",
      "Table: dim_time\n",
      "root\n",
      " |-- date: timestamp (nullable = true)\n",
      " |-- year: integer (nullable = true)\n",
      " |-- month: integer (nullable = true)\n",
      " |-- day: integer (nullable = true)\n",
      "\n"
     ]
    },
    {
     "name": "stderr",
     "output_type": "stream",
     "text": [
      "                                                                                \r"
     ]
    },
    {
     "name": "stdout",
     "output_type": "stream",
     "text": [
      "Table: dim_transaction_type\n",
      "root\n",
      " |-- transaction_type: string (nullable = false)\n",
      "\n",
      "Table: dim_users\n",
      "root\n",
      " |-- user_id: string (nullable = true)\n",
      "\n",
      "Table: fact_transactions\n",
      "root\n",
      " |-- event_timestamp: timestamp (nullable = true)\n",
      " |-- user_id: string (nullable = true)\n",
      " |-- date: timestamp (nullable = true)\n",
      " |-- currency: string (nullable = true)\n",
      " |-- amount: double (nullable = true)\n",
      " |-- tx_status: string (nullable = true)\n",
      " |-- transaction_type: string (nullable = false)\n",
      "\n"
     ]
    },
    {
     "name": "stderr",
     "output_type": "stream",
     "text": [
      "                                                                                \r"
     ]
    },
    {
     "name": "stdout",
     "output_type": "stream",
     "text": [
      "Table: fact_user_events\n",
      "root\n",
      " |-- event_timestamp: timestamp (nullable = true)\n",
      " |-- user_id: string (nullable = true)\n",
      " |-- date: timestamp (nullable = true)\n",
      " |-- event_name: string (nullable = true)\n",
      "\n"
     ]
    },
    {
     "name": "stderr",
     "output_type": "stream",
     "text": [
      "                                                                                \r"
     ]
    }
   ],
   "source": [
    "# Print schemas and export tables to CSV\n",
    "\n",
    "tables = spark.catalog.listTables()\n",
    "for table in tables:\n",
    "    if 'fact_' in table.name or 'dim_' in table.name:\n",
    "        print(f'Table: {table.name}')\n",
    "        spark.table(table.name).printSchema()\n",
    "        df = spark.sql(f\"SELECT * FROM {table.name}\")\n",
    "        df.coalesce(1).write.option(\"header\", \"true\").mode(\"overwrite\").csv(f\"output/{table.name}\")\n",
    "    \n"
   ]
  },
  {
   "cell_type": "code",
   "execution_count": null,
   "id": "7fe6280c-84af-421e-8d03-e91d720d7777",
   "metadata": {},
   "outputs": [],
   "source": [
    "# How many users were active on a given day (they made a deposit or withdrawal)\n",
    "spark.sql(\"\"\"\n",
    "SELECT\n",
    "    date,\n",
    "    COUNT(DISTINCT user_id) AS active_users\n",
    "FROM\n",
    "    fact_transactions\n",
    "WHERE \n",
    "    transaction_type in ('deposit', 'withdrawal')\n",
    "GROUP BY\n",
    "    date\n",
    "ORDER BY\n",
    "    date\n",
    "\"\"\").show()"
   ]
  },
  {
   "cell_type": "code",
   "execution_count": null,
   "id": "2eb1dd95-a152-4b10-9d29-b35bad1fa8e4",
   "metadata": {},
   "outputs": [],
   "source": [
    "# Identify users haven't made a deposit\n",
    "spark.sql(\"\"\"\n",
    "SELECT \n",
    "    u.user_id\n",
    "FROM \n",
    "    dim_users u\n",
    "LEFT JOIN \n",
    "    fact_transactions t \n",
    "ON \n",
    "    u.user_id = t.user_id AND t.transaction_type = 'deposit'\n",
    "WHERE \n",
    "    t.user_id IS NULL;\n",
    "\"\"\").show()"
   ]
  },
  {
   "cell_type": "code",
   "execution_count": null,
   "id": "de1df798-ac9d-48d0-bca2-70eb57217773",
   "metadata": {},
   "outputs": [],
   "source": [
    "# Identify on a given day which users have made more than 5 deposits historically\n",
    "spark.sql(\"\"\"\n",
    "SELECT \n",
    "    f.user_id,\n",
    "    COUNT(f.transaction_type) as total_deposits\n",
    "FROM \n",
    "    fact_transactions f\n",
    "WHERE\n",
    "    f.transaction_type = 'deposit'\n",
    "    and f.date <= CAST('2021-01-01' as DATE)\n",
    "GROUP BY\n",
    "    user_id\n",
    "HAVING\n",
    "     total_deposits  > 5\n",
    "\"\"\").show()"
   ]
  },
  {
   "cell_type": "code",
   "execution_count": null,
   "id": "f60ef32e-b5c6-40da-b1f7-1ca8291394a6",
   "metadata": {},
   "outputs": [],
   "source": [
    "# When was the last time a user made a login\n",
    "spark.sql(\"\"\"\n",
    "SELECT \n",
    "    user_id,\n",
    "    max(event_timestamp) as last_login\n",
    "FROM\n",
    "    fact_user_events\n",
    "WHERE\n",
    "    event_name = 'login'\n",
    "GROUP BY\n",
    "    user_id\n",
    "ORDER BY\n",
    "    last_login\n",
    "\"\"\").show()"
   ]
  },
  {
   "cell_type": "code",
   "execution_count": null,
   "id": "fe99f4db-51ce-4328-b650-1aa7d51d8835",
   "metadata": {},
   "outputs": [],
   "source": [
    "# How many times a user has made a login between two dates\n",
    "spark.sql(\"\"\"\n",
    "SELECT\n",
    "    user_id,\n",
    "    COUNT(*) AS login_count\n",
    "FROM\n",
    "    fact_user_events\n",
    "WHERE\n",
    "    event_name = 'login'\n",
    "    AND date BETWEEN '2020-01-01' AND '2021-01-01'\n",
    "GROUP BY\n",
    "    user_id;\n",
    "\"\"\").show()"
   ]
  },
  {
   "cell_type": "code",
   "execution_count": null,
   "id": "2fc66f82-0e5b-44a5-97c0-77cd0d692c82",
   "metadata": {},
   "outputs": [],
   "source": [
    "# Number of unique currencies deposited on a given day \n",
    "spark.sql(\"\"\"\n",
    "SELECT\n",
    "    date,\n",
    "    COUNT(DISTINCT currency) AS unique_currencies\n",
    "FROM\n",
    "    fact_transactions\n",
    "WHERE\n",
    "    transaction_type = 'deposit'\n",
    "GROUP BY\n",
    "    date\n",
    "ORDER BY\n",
    "    date;\n",
    "\"\"\").show()"
   ]
  },
  {
   "cell_type": "code",
   "execution_count": null,
   "id": "628760b1-39be-4cb0-bed1-78245d314bbe",
   "metadata": {},
   "outputs": [],
   "source": [
    "# Number of unique currencies withdrew on a given day\n",
    "spark.sql(\"\"\"\n",
    "SELECT\n",
    "    date,\n",
    "    COUNT(DISTINCT currency) AS unique_currencies\n",
    "FROM\n",
    "    fact_transactions\n",
    "WHERE\n",
    "    transaction_type = 'withdrawal'\n",
    "GROUP BY\n",
    "    date\n",
    "ORDER BY\n",
    "    date;\n",
    "\"\"\").show()"
   ]
  },
  {
   "cell_type": "code",
   "execution_count": null,
   "id": "671f0861-36aa-45f6-ae72-962373795088",
   "metadata": {},
   "outputs": [],
   "source": [
    "# Total amount deposited of a given currency on a given day\n",
    "spark.sql(\"\"\"\n",
    "SELECT\n",
    "    date,\n",
    "    COUNT(DISTINCT currency) AS unique_currencies\n",
    "FROM\n",
    "    fact_transactions\n",
    "WHERE\n",
    "    transaction_type = 'withdrawal'\n",
    "GROUP BY\n",
    "    date\n",
    "ORDER BY\n",
    "    date;\n",
    "\"\"\").show()"
   ]
  }
 ],
 "metadata": {
  "kernelspec": {
   "display_name": "Python 3 (ipykernel)",
   "language": "python",
   "name": "python3"
  },
  "language_info": {
   "codemirror_mode": {
    "name": "ipython",
    "version": 3
   },
   "file_extension": ".py",
   "mimetype": "text/x-python",
   "name": "python",
   "nbconvert_exporter": "python",
   "pygments_lexer": "ipython3",
   "version": "3.12.4"
  }
 },
 "nbformat": 4,
 "nbformat_minor": 5
}
